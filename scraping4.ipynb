{
 "cells": [
  {
   "cell_type": "code",
   "execution_count": 1,
   "id": "78188897-bc9e-4bbd-9119-0838bbc67e11",
   "metadata": {},
   "outputs": [],
   "source": [
    "from bs4 import BeautifulSoup\n",
    "import requests\n",
    "import json\n",
    "\n",
    "# URL of the page\n",
    "url = \"https://healthwire.pk/doctors\"\n",
    "# Make a request to fetch the content\n",
    "page = requests.get(url)\n",
    "# Parse the page content\n",
    "soup = BeautifulSoup(page.text, 'html.parser')\n",
    "\n",
    "# Find the div containing the doctor listings\n",
    "doctor_listings = soup.find_all(\"div\", class_=\"doctor_listing_page_wraper_outer\")"
   ]
  },
  {
   "cell_type": "code",
   "execution_count": 2,
   "id": "3e29057a-8c58-405d-8f95-4e647c5e1696",
   "metadata": {},
   "outputs": [
    {
     "name": "stdout",
     "output_type": "stream",
     "text": [
      "Locations:\n",
      "Taj Medical Complex (TMC)\n",
      "Sohail and Salma Hospital Trust\n",
      "Azmat Rashid Hospital\n",
      "Chughtai Lab (Karachi)\n",
      "Chughtai Lab (Karachi)\n",
      "Omar Hospital & Cardiac Centre\n",
      "British Medical Practice\n",
      "Anklesaria Hospital\n",
      "Anklesaria Hospital\n",
      "Hameed Latif Hospital\n",
      "\n",
      "Fees:\n",
      "Rs 2000\n",
      "Rs 1000\n",
      "Rs 1000\n",
      "Rs 1000\n",
      "Rs 1000\n",
      "Rs 2500\n",
      "Rs 3000\n",
      "Rs 1400\n",
      "Rs 2000\n",
      "Rs 3000\n"
     ]
    }
   ],
   "source": [
    "\n",
    "doctor_listings = soup.select('.doctor-treat-outer_treating .doctor-treat')\n",
    "\n",
    "locations = []\n",
    "fees = []\n",
    "\n",
    "for listing in doctor_listings:\n",
    "    # Extract hospital location\n",
    "    location_span = listing.select_one('.hospitals-slider .top-section .card-label span')\n",
    "    if location_span:\n",
    "        location = location_span.text.strip()\n",
    "    else:\n",
    "        location = \"N/A\"\n",
    "    locations.append(location)\n",
    "    \n",
    "    # Extract fees\n",
    "    fee_span = listing.select_one('.hospitals-slider .top-section .fees')\n",
    "    if fee_span:\n",
    "        fee = fee_span.text.strip()\n",
    "    else:\n",
    "        fee = \"N/A\"\n",
    "    fees.append(fee)\n",
    "\n",
    "# Print results\n",
    "print(\"Locations:\")\n",
    "for location in locations:\n",
    "    print(location)\n",
    "\n",
    "print(\"\\nFees:\")\n",
    "for fee in fees:\n",
    "    print(fee)"
   ]
  },
  {
   "cell_type": "code",
   "execution_count": 5,
   "id": "0d4461eb-cfac-4a88-a2fe-eb9a4e41c8c7",
   "metadata": {},
   "outputs": [
    {
     "name": "stdout",
     "output_type": "stream",
     "text": [
      "10\n"
     ]
    }
   ],
   "source": [
    "print(len(fees))"
   ]
  },
  {
   "cell_type": "code",
   "execution_count": null,
   "id": "ad2db211-4ca1-44d1-affc-2a1817adbe80",
   "metadata": {},
   "outputs": [],
   "source": []
  },
  {
   "cell_type": "code",
   "execution_count": null,
   "id": "9a7bc32c-8420-4bad-9422-0350f691eaf4",
   "metadata": {},
   "outputs": [],
   "source": []
  },
  {
   "cell_type": "code",
   "execution_count": null,
   "id": "cce618cc-e541-4055-bd56-ebe3f445e3e2",
   "metadata": {},
   "outputs": [],
   "source": []
  }
 ],
 "metadata": {
  "kernelspec": {
   "display_name": "Python 3 (ipykernel)",
   "language": "python",
   "name": "python3"
  },
  "language_info": {
   "codemirror_mode": {
    "name": "ipython",
    "version": 3
   },
   "file_extension": ".py",
   "mimetype": "text/x-python",
   "name": "python",
   "nbconvert_exporter": "python",
   "pygments_lexer": "ipython3",
   "version": "3.10.12"
  }
 },
 "nbformat": 4,
 "nbformat_minor": 5
}
