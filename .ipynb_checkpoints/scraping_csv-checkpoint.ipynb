{
 "cells": [
  {
   "cell_type": "code",
   "execution_count": 5,
   "id": "c08049fb-a9cd-47ce-a0f7-f71e22508c22",
   "metadata": {},
   "outputs": [],
   "source": [
    "from bs4 import BeautifulSoup\n",
    "import requests\n",
    "import pandas as pd\n",
    "\n",
    "\n",
    "doctor_names = []\n",
    "specialization = []\n",
    "license = []\n",
    "edu_exper = []\n",
    "user_exper = []\n",
    "\n",
    "# URL of the page\n",
    "url = \"https://healthwire.pk/doctors\"\n",
    "# Make a request to fetch the content\n",
    "page = requests.get(url)\n",
    "# Parse the page content\n",
    "soup = BeautifulSoup(page.text, 'html.parser')\n",
    "\n",
    "# Find the div containing the doctor listings\n",
    "doctor_listings = soup.find_all(\"div\", class_=\"doctor_listing_page_wraper_outer\")\n"
   ]
  },
  {
   "cell_type": "code",
   "execution_count": 7,
   "id": "7b838233-0b5d-4737-bd5c-1cd090586a0f",
   "metadata": {},
   "outputs": [],
   "source": [
    "# Loop through the found divs\n",
    "for listing in doctor_listings:\n",
    "    # Find all h3 elements within the listing\n",
    "    name_tags = listing.find_all(\"h3\")\n",
    "    for name_tag in name_tags:\n",
    "        # Find the a tag within each h3 tag\n",
    "        a_tag = name_tag.find(\"a\")\n",
    "        if a_tag:\n",
    "            # Append the text of the a tag to the doctor_names list\n",
    "            doctor_names.append(a_tag.text.strip())\n",
    "\n",
    "    # Find all p elements within the listing for specialization     \n",
    "    feature_tag = listing.find_all(\"p\")\n",
    "    for f_t in feature_tag:\n",
    "        specialization.append(f_t.text.strip())\n",
    "        \n",
    "    # Find all ul elements within the listing\n",
    "    name_tags = listing.find_all(\"ul\")\n",
    "    for name_tag in name_tags:\n",
    "        l_tag = name_tag.find(\"li\", class_=\"pmc-verified\")\n",
    "        if l_tag:\n",
    "            license.append(l_tag.text.strip())\n",
    "\n",
    "    # Find all doctor educational and user experiences\n",
    "    edu_ = listing.find_all(\"div\", class_ = \"education-experience\")\n",
    "    user_exp = listing.find_all(\"ul\", class_=\"doctor-user-experiance\")\n",
    "    for edu in edu_:\n",
    "        e_tag = edu.find(\"span\", class_=\"education\")\n",
    "        if e_tag:\n",
    "            edu_exper.append(e_tag.text.strip())\n",
    "    for u_e in user_exp:\n",
    "        u_tag = u_e.find(\"li\")\n",
    "        if u_tag:\n",
    "            clean_t = user_exper.append(u_tag.text.strip().replace('\\n', ' ').replace('\\\\u2022', '-'))\n",
    "specialization = specialization[1:]"
   ]
  },
  {
   "cell_type": "code",
   "execution_count": 8,
   "id": "be3f3c28-53a0-40c1-bec7-7bad7a5d8dd6",
   "metadata": {},
   "outputs": [
    {
     "name": "stdout",
     "output_type": "stream",
     "text": [
      "20\n"
     ]
    }
   ],
   "source": [
    "print(len(specialization))"
   ]
  },
  {
   "cell_type": "code",
   "execution_count": 9,
   "id": "95b8a457-5b93-4908-b932-e7cdaa74c14b",
   "metadata": {},
   "outputs": [
    {
     "name": "stdout",
     "output_type": "stream",
     "text": [
      "                                 Name  \\\n",
      "0    Assist. Prof. Dr. Aziz ur Rehman   \n",
      "1                    Dr. Rabia Sohail   \n",
      "2                    Dr. Aamir Rashid   \n",
      "3                     Dr. Aijaz Ahmed   \n",
      "4                Dr. Naila Izhar Qazi   \n",
      "5     Assist. Prof. Dr. Mujahid Israr   \n",
      "6                     Dr. Sonia Ahmed   \n",
      "7   Prof. Dr. Ghulam Ali Mundra Walla   \n",
      "8                   Dr. Tayyab Usmani   \n",
      "9                    Dr. Asif Mehmood   \n",
      "10   Assist. Prof. Dr. Aziz ur Rehman   \n",
      "11                   Dr. Rabia Sohail   \n",
      "12                   Dr. Aamir Rashid   \n",
      "13                    Dr. Aijaz Ahmed   \n",
      "14               Dr. Naila Izhar Qazi   \n",
      "15    Assist. Prof. Dr. Mujahid Israr   \n",
      "16                    Dr. Sonia Ahmed   \n",
      "17  Prof. Dr. Ghulam Ali Mundra Walla   \n",
      "18                  Dr. Tayyab Usmani   \n",
      "19                   Dr. Asif Mehmood   \n",
      "\n",
      "                                       Specialization       License  \\\n",
      "0                General Physician • Family Physician  PMC Verified   \n",
      "1                General Physician • Family Physician  PMC Verified   \n",
      "2   Nephrologist • General Physician • Asthma Spec...  PMC Verified   \n",
      "3   Gynecologist • Urologist • General Physician •...  PMC Verified   \n",
      "4   Gastroenterologist • General Physician • Diabe...  PMC Verified   \n",
      "5    General Physician • Internal Medicine Specialist  PMC Verified   \n",
      "6   Gastroenterologist • General Physician • Diabe...  PMC Verified   \n",
      "7   Gastroenterologist • General Physician • Hepat...  PMC Verified   \n",
      "8   Gastroenterologist • General Physician • Hepat...  PMC Verified   \n",
      "9                                                      PMC Verified   \n",
      "10  Gastroenterologist • General Physician • Inter...  PMC Verified   \n",
      "11               General Physician • Family Physician  PMC Verified   \n",
      "12               General Physician • Family Physician  PMC Verified   \n",
      "13  Nephrologist • General Physician • Asthma Spec...  PMC Verified   \n",
      "14  Gynecologist • Urologist • General Physician •...  PMC Verified   \n",
      "15  Gastroenterologist • General Physician • Diabe...  PMC Verified   \n",
      "16   General Physician • Internal Medicine Specialist  PMC Verified   \n",
      "17  Gastroenterologist • General Physician • Diabe...  PMC Verified   \n",
      "18  Gastroenterologist • General Physician • Hepat...  PMC Verified   \n",
      "19  Gastroenterologist • General Physician • Hepat...  PMC Verified   \n",
      "\n",
      "                               Educational Experience         User Experience  \n",
      "0              MBBS, FCPS(Medicines), MCPS(Medicines)  25 Years of Experience  \n",
      "1                                                MBBS   6 Years of Experience  \n",
      "2                                                MBBS  26 Years of Experience  \n",
      "3                                   FCPS (NEPHROLOGY)  13 Years of Experience  \n",
      "4                                                FCPS  30 Years of Experience  \n",
      "5                             FCPS (Gastroenterology)  16 Years of Experience  \n",
      "6   DFSRH - Faculty of Sexual and Reproductive Hea...  13 Years of Experience  \n",
      "7                                         MD Medicine  45 Years of Experience  \n",
      "8   FCPS (Gastroenterology) - College of Physician...  15 Years of Experience  \n",
      "9             Fellow of Gastroenterologist , Pakistan  24 Years of Experience  \n",
      "10             MBBS, FCPS(Medicines), MCPS(Medicines)  25 Years of Experience  \n",
      "11                                               MBBS   6 Years of Experience  \n",
      "12                                               MBBS  26 Years of Experience  \n",
      "13                                  FCPS (NEPHROLOGY)  13 Years of Experience  \n",
      "14                                               FCPS  30 Years of Experience  \n",
      "15                            FCPS (Gastroenterology)  16 Years of Experience  \n",
      "16  DFSRH - Faculty of Sexual and Reproductive Hea...  13 Years of Experience  \n",
      "17                                        MD Medicine  45 Years of Experience  \n",
      "18  FCPS (Gastroenterology) - College of Physician...  15 Years of Experience  \n",
      "19            Fellow of Gastroenterologist , Pakistan  24 Years of Experience  \n"
     ]
    }
   ],
   "source": [
    "data = {\n",
    "    \"Name\": doctor_names,\n",
    "    \"Specialization\": specialization,\n",
    "    \"License\": license,\n",
    "    \"Educational Experience\": edu_exper,\n",
    "    \"User Experience\": user_exper\n",
    "}\n",
    "\n",
    "df = pd.DataFrame(data)\n",
    "#df.to_csv('doctors_info5.csv', index = False)\n",
    "print(df)\n"
   ]
  },
  {
   "cell_type": "code",
   "execution_count": 5,
   "id": "07c77319-28cd-49bf-929f-e6f3255b2cc4",
   "metadata": {},
   "outputs": [],
   "source": []
  },
  {
   "cell_type": "code",
   "execution_count": null,
   "id": "55d48ade-af13-4b19-b9f3-a56a87536dfa",
   "metadata": {},
   "outputs": [],
   "source": []
  },
  {
   "cell_type": "code",
   "execution_count": null,
   "id": "47d082b4-8c2a-4b5e-91bb-86db6fe13ce0",
   "metadata": {},
   "outputs": [],
   "source": []
  },
  {
   "cell_type": "code",
   "execution_count": null,
   "id": "b4c5d243-0ce2-45de-b4cd-f5ad24e0b8e0",
   "metadata": {},
   "outputs": [],
   "source": []
  },
  {
   "cell_type": "code",
   "execution_count": null,
   "id": "713379e8-38b7-4e52-b486-07e6edaa3dc8",
   "metadata": {},
   "outputs": [],
   "source": []
  },
  {
   "cell_type": "code",
   "execution_count": null,
   "id": "f79c9825-1699-4898-b11d-7d3775687a54",
   "metadata": {},
   "outputs": [],
   "source": []
  }
 ],
 "metadata": {
  "kernelspec": {
   "display_name": "Python 3 (ipykernel)",
   "language": "python",
   "name": "python3"
  },
  "language_info": {
   "codemirror_mode": {
    "name": "ipython",
    "version": 3
   },
   "file_extension": ".py",
   "mimetype": "text/x-python",
   "name": "python",
   "nbconvert_exporter": "python",
   "pygments_lexer": "ipython3",
   "version": "3.10.12"
  }
 },
 "nbformat": 4,
 "nbformat_minor": 5
}
