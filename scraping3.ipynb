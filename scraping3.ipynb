{
 "cells": [
  {
   "cell_type": "code",
   "execution_count": 1,
   "id": "6780c5bd-7cd6-4ebc-93e2-c295839fa2b7",
   "metadata": {},
   "outputs": [],
   "source": [
    "doctor_names = []\n",
    "specialization = []\n",
    "license = []\n",
    "edu_exper = []\n",
    "user_exper = []"
   ]
  },
  {
   "cell_type": "code",
   "execution_count": 3,
   "id": "155a0286-a74c-44e9-873f-0dc0c6914aae",
   "metadata": {},
   "outputs": [],
   "source": [
    "from bs4 import BeautifulSoup\n",
    "import requests\n",
    "\n",
    "doctor_names = []\n",
    "specialization = []\n",
    "license = []\n",
    "edu_exper = []\n",
    "user_exper = []\n",
    "\n",
    "# URL of the page\n",
    "url = \"https://healthwire.pk/doctors\"\n",
    "# Make a request to fetch the content\n",
    "page = requests.get(url)\n",
    "# Parse the page content\n",
    "soup = BeautifulSoup(page.text, 'html.parser')\n",
    "\n",
    "# Find the div containing the doctor listings\n",
    "doctor_listings = soup.find_all(\"div\", class_=\"doctor_listing_page_wraper_outer\")\n",
    "\n",
    "# Initialize an empty list to store doctor names\n"
   ]
  },
  {
   "cell_type": "code",
   "execution_count": 4,
   "id": "21067e4a-23d9-474b-a35d-dd5d425016d1",
   "metadata": {},
   "outputs": [
    {
     "name": "stdout",
     "output_type": "stream",
     "text": [
      "['Assist. Prof. Dr. Aziz ur Rehman', 'Dr. Rabia Sohail', 'Dr. Aamir Rashid', 'Dr. Aijaz Ahmed', 'Dr. Naila Izhar Qazi', 'Assist. Prof. Dr. Mujahid Israr', 'Dr. Sonia Ahmed', 'Prof. Dr. Ghulam Ali Mundra Walla', 'Dr. Tayyab Usmani', 'Dr. Asif Mehmood']\n"
     ]
    }
   ],
   "source": [
    "\n",
    "# Loop through the found divs\n",
    "for listing in doctor_listings:\n",
    "    # Find all h3 elements within the listing\n",
    "    name_tags = listing.find_all(\"h3\")\n",
    "    for name_tag in name_tags:\n",
    "        # Find the a tag within each h3 tag\n",
    "        a_tag = name_tag.find(\"a\")\n",
    "        if a_tag:\n",
    "            # Append the text of the a tag to the doctor_names list\n",
    "            doctor_names.append(a_tag.text.strip())\n",
    "\n",
    "# Print the list of doctor names\n",
    "print(doctor_names)\n"
   ]
  },
  {
   "cell_type": "code",
   "execution_count": 5,
   "id": "09e65988-7d6f-418b-8d06-ef30f47d1fb0",
   "metadata": {},
   "outputs": [
    {
     "name": "stdout",
     "output_type": "stream",
     "text": [
      "['Gastroenterologist • General Physician • Internal Medicine Specialist', 'General Physician • Family Physician', 'General Physician • Family Physician', 'Nephrologist • General Physician • Asthma Specialist', 'Gynecologist • Urologist • General Physician • Obstetrician', 'Gastroenterologist • General Physician • Diabetologist • Internal Medicine Specialist • Pediatric Gastroenterologist', 'General Physician • Internal Medicine Specialist', 'Gastroenterologist • General Physician • Diabetologist • Internal Medicine Specialist', 'Gastroenterologist • General Physician • Hepatologist • Internal Medicine Specialist', 'Gastroenterologist • General Physician • Hepatologist']\n"
     ]
    }
   ],
   "source": [
    "for listing in doctor_listings:\n",
    "    # Find all p elements within the listing\n",
    "            \n",
    "    feature_tag = listing.find_all(\"p\")\n",
    "    for f_t in feature_tag:\n",
    "        specialization.append(f_t.text.strip())\n",
    "specialization = specialization[1:]\n",
    "\n",
    "\n",
    "print(specialization)\n",
    "#print()\n",
    "#print(\"length  \" + str(len(specialization)))"
   ]
  },
  {
   "cell_type": "code",
   "execution_count": 6,
   "id": "da79b221-0c30-4b2e-8133-e742f4ea7420",
   "metadata": {},
   "outputs": [
    {
     "name": "stdout",
     "output_type": "stream",
     "text": [
      "['PMC Verified', 'PMC Verified', 'PMC Verified', 'PMC Verified', 'PMC Verified', 'PMC Verified', 'PMC Verified', 'PMC Verified', 'PMC Verified', 'PMC Verified']\n"
     ]
    }
   ],
   "source": [
    "# Loop through the found divs\n",
    "for listing in doctor_listings:\n",
    "    # Find all h3 elements within the listing\n",
    "    name_tags = listing.find_all(\"ul\")\n",
    "    for name_tag in name_tags:\n",
    "        # Find the a tag within each h3 tag\n",
    "        l_tag = name_tag.find(\"li\", class_=\"pmc-verified\")\n",
    "        if l_tag:\n",
    "            # Append the text of the a tag to the doctor_names list\n",
    "            license.append(l_tag.text.strip())\n",
    "\n",
    "print(license)"
   ]
  },
  {
   "cell_type": "code",
   "execution_count": 9,
   "id": "d77dfd24-c118-4461-b93c-f5009756ebec",
   "metadata": {},
   "outputs": [
    {
     "name": "stdout",
     "output_type": "stream",
     "text": [
      "['25 Years\\nof Experience', '6 Years\\nof Experience', '26 Years\\nof Experience', '13 Years\\nof Experience', '30 Years\\nof Experience', '16 Years\\nof Experience', '13 Years\\nof Experience', '45 Years\\nof Experience', '15 Years\\nof Experience', '24 Years\\nof Experience', '25 Years\\nof Experience', '6 Years\\nof Experience', '26 Years\\nof Experience', '13 Years\\nof Experience', '30 Years\\nof Experience', '16 Years\\nof Experience', '13 Years\\nof Experience', '45 Years\\nof Experience', '15 Years\\nof Experience', '24 Years\\nof Experience']\n"
     ]
    }
   ],
   "source": [
    "\n",
    "# Loop through the found divs\n",
    "for listing in doctor_listings:\n",
    "    # Find all h3 elements within the listing\n",
    "    edu_ = listing.find_all(\"div\", class_ = \"education-experience\")\n",
    "    user_exp = listing.find_all(\"ul\", class_=\"doctor-user-experiance\")\n",
    "\n",
    "    for edu in edu_:\n",
    "        # Find the a tag within each h3 tag\n",
    "        e_tag = edu.find(\"span\", class_=\"education\")\n",
    "        if e_tag:\n",
    "            # Append the text of the a tag to the doctor_names list\n",
    "            edu_exper.append(e_tag.text.strip())\n",
    "    \n",
    "    \n",
    "    for u_e in user_exp:\n",
    "        # Find the a tag within each h3 tag\n",
    "        u_tag = u_e.find(\"li\")\n",
    "        if u_tag:\n",
    "            # Append the text of the a tag to the doctor_names list\n",
    "            user_exper.append(u_tag.text.strip())\n",
    "\n",
    "\n",
    "print(user_exper)\n"
   ]
  },
  {
   "cell_type": "code",
   "execution_count": 7,
   "id": "414e23ca-dfe2-47ef-8094-5c4ce70b7b14",
   "metadata": {},
   "outputs": [
    {
     "name": "stdout",
     "output_type": "stream",
     "text": [
      "10\n"
     ]
    }
   ],
   "source": [
    "print(len(doctor_names))"
   ]
  },
  {
   "cell_type": "code",
   "execution_count": null,
   "id": "b6815dc2-9655-4ec0-af79-0ff2eeb64d54",
   "metadata": {},
   "outputs": [],
   "source": []
  },
  {
   "cell_type": "code",
   "execution_count": null,
   "id": "64d1979b-8c69-4dc8-b304-3568500ef624",
   "metadata": {},
   "outputs": [],
   "source": []
  },
  {
   "cell_type": "code",
   "execution_count": 2,
   "id": "4a6c7dd3-ecf6-4b93-804e-5b9dd0e90ed2",
   "metadata": {},
   "outputs": [],
   "source": []
  },
  {
   "cell_type": "code",
   "execution_count": 3,
   "id": "6d19f630-b6c1-4f1d-b481-efb912b58fdb",
   "metadata": {},
   "outputs": [
    {
     "name": "stdout",
     "output_type": "stream",
     "text": [
      "['Assist. Prof. Dr. Aziz ur Rehman', 'Dr. Rabia Sohail', 'Dr. Aamir Rashid', 'Dr. Aijaz Ahmed', 'Dr. Naila Izhar Qazi', 'Assist. Prof. Dr. Mujahid Israr', 'Dr. Sonia Ahmed', 'Prof. Dr. Ghulam Ali Mundra Walla', 'Dr. Tayyab Usmani', 'Dr. Asif Mehmood']\n",
      "\n",
      "['Gastroenterologist • General Physician • Internal Medicine Specialist', 'General Physician • Family Physician', 'General Physician • Family Physician', 'Nephrologist • General Physician • Asthma Specialist', 'Gynecologist • Urologist • General Physician • Obstetrician', 'Gastroenterologist • General Physician • Diabetologist • Internal Medicine Specialist • Pediatric Gastroenterologist', 'General Physician • Internal Medicine Specialist', 'Gastroenterologist • General Physician • Diabetologist • Internal Medicine Specialist', 'Gastroenterologist • General Physician • Hepatologist • Internal Medicine Specialist', 'Gastroenterologist • General Physician • Hepatologist']\n",
      "\n",
      "['PMC Verified', 'PMC Verified', 'PMC Verified', 'PMC Verified', 'PMC Verified', 'PMC Verified', 'PMC Verified', 'PMC Verified', 'PMC Verified', 'PMC Verified']\n",
      "\n",
      "['25 Years\\nof Experience', '6 Years\\nof Experience', '26 Years\\nof Experience', '13 Years\\nof Experience', '30 Years\\nof Experience', '16 Years\\nof Experience', '13 Years\\nof Experience', '45 Years\\nof Experience', '15 Years\\nof Experience', '24 Years\\nof Experience']\n"
     ]
    }
   ],
   "source": []
  },
  {
   "cell_type": "code",
   "execution_count": 4,
   "id": "bd0fed74-973c-41a1-961f-07142e74e63c",
   "metadata": {},
   "outputs": [],
   "source": []
  },
  {
   "cell_type": "code",
   "execution_count": 7,
   "id": "38c73241-9a78-42d3-a6f8-29ac1466064f",
   "metadata": {},
   "outputs": [
    {
     "name": "stdout",
     "output_type": "stream",
     "text": [
      "10\n"
     ]
    }
   ],
   "source": [
    "print(len(edu_exper))"
   ]
  },
  {
   "cell_type": "code",
   "execution_count": 8,
   "id": "093fc4b1-2b86-453e-84b8-d321aeea9a16",
   "metadata": {},
   "outputs": [],
   "source": []
  },
  {
   "cell_type": "code",
   "execution_count": null,
   "id": "b548244a-99c0-4c2c-8503-4b33918e6477",
   "metadata": {},
   "outputs": [],
   "source": []
  },
  {
   "cell_type": "code",
   "execution_count": null,
   "id": "7d0ddde2-4182-48b3-8a79-7136b1c774ab",
   "metadata": {},
   "outputs": [],
   "source": []
  },
  {
   "cell_type": "code",
   "execution_count": null,
   "id": "f2d5369a-ee98-4154-bd16-3a63019e2673",
   "metadata": {},
   "outputs": [],
   "source": []
  },
  {
   "cell_type": "code",
   "execution_count": null,
   "id": "5ff68720-8bf6-419e-9592-345e38b6df09",
   "metadata": {},
   "outputs": [],
   "source": []
  }
 ],
 "metadata": {
  "kernelspec": {
   "display_name": "Python 3 (ipykernel)",
   "language": "python",
   "name": "python3"
  },
  "language_info": {
   "codemirror_mode": {
    "name": "ipython",
    "version": 3
   },
   "file_extension": ".py",
   "mimetype": "text/x-python",
   "name": "python",
   "nbconvert_exporter": "python",
   "pygments_lexer": "ipython3",
   "version": "3.10.12"
  }
 },
 "nbformat": 4,
 "nbformat_minor": 5
}
